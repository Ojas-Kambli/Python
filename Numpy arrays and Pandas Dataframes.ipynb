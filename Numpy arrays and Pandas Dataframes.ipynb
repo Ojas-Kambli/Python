{
  "nbformat": 4,
  "nbformat_minor": 0,
  "metadata": {
    "colab": {
      "provenance": []
    },
    "kernelspec": {
      "name": "python3",
      "display_name": "Python 3"
    },
    "language_info": {
      "name": "python"
    }
  },
  "cells": [
    {
      "cell_type": "code",
      "execution_count": null,
      "metadata": {
        "colab": {
          "base_uri": "https://localhost:8080/"
        },
        "id": "efvzSghpptCh",
        "outputId": "ecbf24b5-5cf3-4556-d2ef-e72741de4d64"
      },
      "outputs": [
        {
          "output_type": "stream",
          "name": "stdout",
          "text": [
            "The array is : \n",
            " [[ 13  12  31   4]\n",
            " [ 45 521  16  37]]\n",
            "Max:  521\n",
            "Min:  4\n",
            "The sorted array:\n",
            " [[  4  12  13  31]\n",
            " [ 16  37  45 521]]\n",
            "The mean is :  84.875\n",
            "The added array is :\n",
            " [[ 13  12  31   4  15]\n",
            " [ 45 521  16  37  29]]\n",
            "The flipped array is:\n",
            " [[ 29  37  16 521  45]\n",
            " [ 15   4  31  12  13]]\n",
            "The second array:\n",
            " [[ 11 192  13  45  16]\n",
            " [ 47  51 106   7  64]]\n",
            "The multiplication of the two matrices is:\n",
            " [[  143  2304   403   180   240]\n",
            " [ 2115 26571  1696   259  1856]]\n"
          ]
        }
      ],
      "source": [
        "import numpy as np\n",
        "a = np.array([(13,12,31,4) , (45,521,16,37)])\n",
        "print(\"The array is : \\n\",a)\n",
        "print(\"Max: \",a.max())\n",
        "print(\"Min: \",a.min())\n",
        "print(\"The sorted array:\\n\",np.sort(a))\n",
        "mn=np.mean(a, dtype=np.float64)\n",
        "print(\"The mean is : \",mn)\n",
        "column_to_be_added = np.array([[15], [29]])\n",
        "#a = np.insert(a, 0, column_to_be_added, axis=1)\n",
        "arr = np.concatenate([a, column_to_be_added], axis=1)\n",
        "print(\"The added array is :\\n\",arr)\n",
        "print(\"The flipped array is:\\n\",np.flip(arr))\n",
        "a2= np.array([(11,192,13,45,16) , (47,51,106,7,64)])\n",
        "print(\"The second array:\\n\",a2)\n",
        "print(\"The multiplication of the two matrices is:\\n\",arr*a2)"
      ]
    },
    {
      "cell_type": "code",
      "source": [
        "import pandas as pd\n",
        "import numpy as np\n",
        "n=np.random.randn(5)\n",
        "index=['a','b','c','d','e']\n",
        "s1=pd.Series(n,index=index)\n",
        "j=np.random.randn(5)\n",
        "index=['a','b','c','d','e']\n",
        "s2=pd.Series(j,index=index)\n",
        "print(\"The first series :\\n\",s1)\n",
        "print(\"The second series :\\n\",s2)\n",
        "ss=s1+s2\n",
        "print(\"Add two Series:\")\n",
        "print(ss)\n",
        "print(\"Subtract two Series:\")\n",
        "ss = s1 - s2\n",
        "print(ss)\n",
        "print(\"Multiply two Series:\")\n",
        "ss = s1 * s2\n",
        "print(ss)\n",
        "print(\"Divide Series1 by Series2:\")\n",
        "ss = s1 / s2\n",
        "print(ss)"
      ],
      "metadata": {
        "colab": {
          "base_uri": "https://localhost:8080/"
        },
        "id": "g-fyjW_rpwKk",
        "outputId": "f7d376c5-9059-4bca-985b-05a344378850"
      },
      "execution_count": null,
      "outputs": [
        {
          "output_type": "stream",
          "name": "stdout",
          "text": [
            "The first series :\n",
            " a    1.236654\n",
            "b    0.624109\n",
            "c    0.028596\n",
            "d   -1.762601\n",
            "e    0.350899\n",
            "dtype: float64\n",
            "The second series :\n",
            " a    0.576108\n",
            "b    0.354485\n",
            "c    2.352546\n",
            "d    0.090814\n",
            "e    2.185045\n",
            "dtype: float64\n",
            "Add two Series:\n",
            "a    1.812763\n",
            "b    0.978594\n",
            "c    2.381142\n",
            "d   -1.671787\n",
            "e    2.535944\n",
            "dtype: float64\n",
            "Subtract two Series:\n",
            "a    0.660546\n",
            "b    0.269623\n",
            "c   -2.323950\n",
            "d   -1.853415\n",
            "e   -1.834146\n",
            "dtype: float64\n",
            "Multiply two Series:\n",
            "a    0.712447\n",
            "b    0.221237\n",
            "c    0.067273\n",
            "d   -0.160069\n",
            "e    0.766730\n",
            "dtype: float64\n",
            "Divide Series1 by Series2:\n",
            "a     2.146565\n",
            "b     1.760605\n",
            "c     0.012155\n",
            "d   -19.408932\n",
            "e     0.160591\n",
            "dtype: float64\n"
          ]
        }
      ]
    },
    {
      "cell_type": "code",
      "source": [
        "import pandas as pd\n",
        "d = {'col1': [1, 2, 3, 4, 7, 11], 'col2': [4, 5, 6, 9, 5, 0], 'col3': [7, 5, 8, 12, 1,11]}\n",
        "df = pd.DataFrame(data=d)\n",
        "print(\"Original DataFrame\")\n",
        "print(df)\n",
        "i=2\n",
        "s1 = df.iloc[:,i]\n",
        "print(\"\\n\",(i+1),\"column as a Series:\\n\",s1)\n"
      ],
      "metadata": {
        "colab": {
          "base_uri": "https://localhost:8080/"
        },
        "id": "B63YXJV2vrZT",
        "outputId": "8aa3209a-2ac1-4dd3-9598-3ed5ae55c1b7"
      },
      "execution_count": null,
      "outputs": [
        {
          "output_type": "stream",
          "name": "stdout",
          "text": [
            "Original DataFrame\n",
            "   col1  col2  col3\n",
            "0     1     4     7\n",
            "1     2     5     5\n",
            "2     3     6     8\n",
            "3     4     9    12\n",
            "4     7     5     1\n",
            "5    11     0    11\n",
            "\n",
            " 3 column as a Series:\n",
            " 0     7\n",
            "1     5\n",
            "2     8\n",
            "3    12\n",
            "4     1\n",
            "5    11\n",
            "Name: col3, dtype: int64\n"
          ]
        }
      ]
    },
    {
      "cell_type": "code",
      "source": [
        "import pandas as pd\n",
        "dict = {'Name':['Martha', 'Tim', 'Rob', 'Georgia'],\n",
        "        'Maths':[87, 91, 97, 95],\n",
        "        'Science':[83, 99, 84, 76]\n",
        "       }\n",
        "\n",
        "df = pd.DataFrame(dict)\n",
        "df.loc[len(df.index)] = ['Amy', 89, 93]\n",
        "print(df)"
      ],
      "metadata": {
        "colab": {
          "base_uri": "https://localhost:8080/"
        },
        "id": "7kZQKql2z6CS",
        "outputId": "d8fe8981-3fda-421a-fcf0-140c4ff498bd"
      },
      "execution_count": null,
      "outputs": [
        {
          "output_type": "stream",
          "name": "stdout",
          "text": [
            "      Name  Maths  Science\n",
            "0   Martha     87       83\n",
            "1      Tim     91       99\n",
            "2      Rob     97       84\n",
            "3  Georgia     95       76\n",
            "4      Amy     89       93\n"
          ]
        }
      ]
    },
    {
      "cell_type": "code",
      "source": [
        "import pandas as pd\n",
        "subs=[]\n",
        "dict={}\n",
        "nosub=int(input(\"Enter the number of subjects: \"))\n",
        "for x in range (0,nosub):\n",
        "  s=input(\"Enter the name of the subject: \")\n",
        "  subs.append(s)\n",
        "st=int(input(\"Enter the number of students :\"))\n",
        "for y in range (0,st):\n",
        "  n=input(\"Enter the name of student \"+str(y+1)+\" : \")\n",
        "  if y==0:\n",
        "    dict[\"Name\"]=[n]\n",
        "  else:\n",
        "    dict[\"Name\"].append(n)\n",
        "  for z in range (0,nosub):\n",
        "    m=float(input(\"Enter the marks in \"+subs[z]+\" : \"))\n",
        "    if y == 0:\n",
        "      dict[subs[z]]=[m]\n",
        "    else:\n",
        "      dict[subs[z]].append(m)\n",
        "  att=int(input(\"Enter the number of attempts : \"))\n",
        "  if y == 0:\n",
        "      dict[\"Attempts\"]=[att]\n",
        "  else:\n",
        "      dict[\"Attempts\"].append(att)\n",
        "\n",
        "print(dict)\n",
        "df = pd.DataFrame.from_dict(dict)\n",
        "print(df)\n",
        "nrs=int(input(\"Enter the name of the row which is to be display: \"))\n",
        "print(df.loc[nrs,:])\n",
        "ncs=(input(\"Enter the name of the column from which to display: \"))\n",
        "print(df.loc[:,ncs])\n",
        "print(\"The sum of the number of attempts is :\",df[\"Attempts\"].sum())"
      ],
      "metadata": {
        "id": "2iaYbymn0KpY",
        "colab": {
          "base_uri": "https://localhost:8080/"
        },
        "outputId": "361d12f7-340d-4a51-f1df-73882bf8b641"
      },
      "execution_count": null,
      "outputs": [
        {
          "output_type": "stream",
          "name": "stdout",
          "text": [
            "Enter the number of subjects: 3\n",
            "Enter the name of the subject: SL\n",
            "Enter the name of the subject: SAS\n",
            "Enter the name of the subject: LIC\n",
            "Enter the number of students :3\n",
            "Enter the name of student 1 : Ojas\n",
            "Enter the marks in SL : 70\n",
            "Enter the marks in SAS : 65\n",
            "Enter the marks in LIC : 75\n",
            "Enter the number of attempts : 1\n",
            "Enter the name of student 2 : Stan\n",
            "Enter the marks in SL : 68\n",
            "Enter the marks in SAS : 65\n",
            "Enter the marks in LIC : 73\n",
            "Enter the number of attempts : 1\n",
            "Enter the name of student 3 : Harshal\n",
            "Enter the marks in SL : 63\n",
            "Enter the marks in SAS : 58\n",
            "Enter the marks in LIC : 673\n",
            "Enter the number of attempts : 2\n",
            "{'Name': ['Ojas', 'Stan', 'Harshal'], 'SL': [70.0, 68.0, 63.0], 'SAS': [65.0, 65.0, 58.0], 'LIC': [75.0, 73.0, 673.0], 'Attempts': [1, 1, 2]}\n",
            "      Name    SL   SAS    LIC  Attempts\n",
            "0     Ojas  70.0  65.0   75.0         1\n",
            "1     Stan  68.0  65.0   73.0         1\n",
            "2  Harshal  63.0  58.0  673.0         2\n",
            "Enter the name of the row which is to be display: 1\n",
            "Name        Stan\n",
            "SL          68.0\n",
            "SAS         65.0\n",
            "LIC         73.0\n",
            "Attempts       1\n",
            "Name: 1, dtype: object\n",
            "Enter the name of the column from which to display: SAS\n",
            "0    65.0\n",
            "1    65.0\n",
            "2    58.0\n",
            "Name: SAS, dtype: float64\n",
            "The sum of the number of attempts is : 4\n"
          ]
        }
      ]
    },
    {
      "cell_type": "code",
      "source": [
        "# import pandas\n",
        "import pandas as pd\n",
        "\n",
        "# create dataframe\n",
        "df = pd.DataFrame({\n",
        "  'Employs Name': ['Rishabh', 'Rahul', 'Suraj', 'Mukul', 'Vinit'],\n",
        "  'Location': ['Saharanpur', 'Meerut', 'Saharanpur', 'Meerut', 'Saharanpur'],\n",
        "  'Pay': [21000, 22000, 23000, 24000, 22000]})\n",
        "\n",
        "# print dataframe\n",
        "print(\"\\n *** Original DataFrames ** \\n\")\n",
        "print(df)\n",
        "\n",
        "\n",
        "# create dictionaries\n",
        "dicts = [{'Employs Name': 'Anuj', 'Location': 'Meerut', 'Roll No': 30000},\n",
        "    {'Employs Name': 'Arun', 'Location': 'Saharanpur', 'Roll No': 32000}]\n",
        "\n",
        "# print dictionaries\n",
        "print(\"\\n ** Dictionary ** \")\n",
        "print(dicts)\n",
        "\n",
        "\n",
        "# combined data\n",
        "df = df.append(dicts, ignore_index=True, sort=False)\n",
        "\n",
        "# print combined dataframe\n",
        "print(\"\\n\\n ** Combined Data **\\n\")\n",
        "print(df)\n"
      ],
      "metadata": {
        "colab": {
          "base_uri": "https://localhost:8080/"
        },
        "id": "qIDghcxXdmZ0",
        "outputId": "d80b1f45-f6d0-4d1c-873f-d2e58c7de7a6"
      },
      "execution_count": null,
      "outputs": [
        {
          "output_type": "stream",
          "name": "stdout",
          "text": [
            "\n",
            " *** Original DataFrames ** \n",
            "\n",
            "  Employs Name    Location    Pay\n",
            "0      Rishabh  Saharanpur  21000\n",
            "1        Rahul      Meerut  22000\n",
            "2        Suraj  Saharanpur  23000\n",
            "3        Mukul      Meerut  24000\n",
            "4        Vinit  Saharanpur  22000\n",
            "\n",
            " ** Dictionary ** \n",
            "[{'Employs Name': 'Anuj', 'Location': 'Meerut', 'Roll No': 30000}, {'Employs Name': 'Arun', 'Location': 'Saharanpur', 'Roll No': 32000}]\n",
            "\n",
            "\n",
            " ** Combined Data **\n",
            "\n",
            "  Employs Name    Location      Pay  Roll No\n",
            "0      Rishabh  Saharanpur  21000.0      NaN\n",
            "1        Rahul      Meerut  22000.0      NaN\n",
            "2        Suraj  Saharanpur  23000.0      NaN\n",
            "3        Mukul      Meerut  24000.0      NaN\n",
            "4        Vinit  Saharanpur  22000.0      NaN\n",
            "5         Anuj      Meerut      NaN  30000.0\n",
            "6         Arun  Saharanpur      NaN  32000.0\n"
          ]
        },
        {
          "output_type": "stream",
          "name": "stderr",
          "text": [
            "<ipython-input-25-4b4d2f087a6e>:25: FutureWarning: The frame.append method is deprecated and will be removed from pandas in a future version. Use pandas.concat instead.\n",
            "  df = df.append(dicts, ignore_index=True, sort=False)\n"
          ]
        }
      ]
    },
    {
      "cell_type": "code",
      "source": [
        "import pandas as pd\n",
        "student_data1 = pd.DataFrame({\n",
        "        'student_id': ['S1', 'S2', 'S3', 'S4', 'S5'],\n",
        "         'name': ['Danniella Fenton', 'Ryder Storey', 'Bryce Jensen', 'Ed Bernal', 'Kwame Morin'],\n",
        "        'marks': [200, 210, 190, 222, 199]})\n",
        "\n",
        "student_data2 = pd.DataFrame({\n",
        "        'student_id': ['S4', 'S5', 'S6', 'S7', 'S8'],\n",
        "        'name': ['Scarlette Fisher', 'Carla Williamson', 'Dante Morse', 'Kaiser William', 'Madeeha Preston'],\n",
        "        'marks': [201, 200, 198, 219, 201]})\n",
        "\n",
        "exam_data = pd.DataFrame({\n",
        "        'student_id': ['S1', 'S2', 'S3', 'S4', 'S5', 'S7', 'S8', 'S9', 'S10', 'S11', 'S12', 'S13'],\n",
        "        'exam_id': [23, 45, 12, 67, 21, 55, 33, 14, 56, 83, 88, 12]})\n",
        "\n",
        "print(\"Original DataFrames:\")\n",
        "print(student_data1)\n",
        "print(student_data2)\n",
        "print(exam_data)\n",
        "\n",
        "print(\"\\nJoin first two said dataframes along rows:\")\n",
        "result_data = pd.concat([student_data1, student_data2])\n",
        "print(result_data)\n",
        "\n",
        "print(\"\\nNow join the said result_data and df_exam_data along student_id:\")\n",
        "final_merged_data = pd.merge(result_data, exam_data, on='student_id')\n",
        "print(final_merged_data)"
      ],
      "metadata": {
        "id": "ZGhJPqMvexLH"
      },
      "execution_count": null,
      "outputs": []
    }
  ]
}