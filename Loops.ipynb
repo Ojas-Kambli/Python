{
  "nbformat": 4,
  "nbformat_minor": 0,
  "metadata": {
    "colab": {
      "provenance": []
    },
    "kernelspec": {
      "name": "python3",
      "display_name": "Python 3"
    },
    "language_info": {
      "name": "python"
    }
  },
  "cells": [
    {
      "cell_type": "code",
      "execution_count": null,
      "metadata": {
        "colab": {
          "base_uri": "https://localhost:8080/"
        },
        "id": "cRefm_C1xEsf",
        "outputId": "d78ca517-1a55-4f20-84db-bb043b05321a"
      },
      "outputs": [
        {
          "output_type": "stream",
          "name": "stdout",
          "text": [
            "Emter the string to be checked for palindrome: Ojas\n",
            "The entered string is not a palindrome.\n"
          ]
        }
      ],
      "source": [
        "str_1=input(\"Emter the string to be checked for palindrome: \")\n",
        "str_1=str_1.lower()\n",
        "if (str_1 == str_1[::-1]):\n",
        "  print(\"The entered string is a palindrome.\")\n",
        "else:\n",
        "  print(\"The entered string is not a palindrome.\")"
      ]
    },
    {
      "cell_type": "code",
      "source": [
        "lim=int(input(\"Enter the number upto which prime numbers are to be displayed \"))\n",
        "print(\"The prime numbers are :\")\n",
        "for x in range(2,lim+1):\n",
        "  if(x%2!=0 and x%3!=0 and x%5!=0 and x%7!=0):\n",
        "    print(x)\n",
        "  elif(x==2 or x==3 or x==5 or x==7):\n",
        "    print(x)"
      ],
      "metadata": {
        "id": "_J10A5SVziL7",
        "colab": {
          "base_uri": "https://localhost:8080/"
        },
        "outputId": "7efa78f1-0077-4aa4-fa70-8534fbf45383"
      },
      "execution_count": null,
      "outputs": [
        {
          "output_type": "stream",
          "name": "stdout",
          "text": [
            "Enter the number upto which prime numbers are to be displayed 50\n",
            "The prime numbers are :\n",
            "2\n",
            "3\n",
            "5\n",
            "7\n",
            "11\n",
            "13\n",
            "17\n",
            "19\n",
            "23\n",
            "29\n",
            "31\n",
            "37\n",
            "41\n",
            "43\n",
            "47\n"
          ]
        }
      ]
    },
    {
      "cell_type": "code",
      "source": [
        "def replaceVowels(str, K):\n",
        "    vowels_list = ['A', 'E', 'I', 'O', 'U', 'a', 'e', 'i', 'o', 'u']\n",
        "    new_string = []\n",
        "    string_list = list(str)\n",
        "    for char in string_list:\n",
        "        for char2 in vowels_list:\n",
        "            if char == char2:\n",
        "                new_string.append(K)\n",
        "                break\n",
        "        else:\n",
        "            new_string.append(char)\n",
        "    return(''.join(new_string))\n",
        "\n",
        "\n",
        "\n",
        "str=input(\"Enter a string :\")\n",
        "K = \"*\"\n",
        "print(\"Given String:\", str)\n",
        "print(\"Given Specified Character:\", K)\n",
        "print(\"After replacing vowels with the specified character:\",replaceVowels(str, K))"
      ],
      "metadata": {
        "colab": {
          "base_uri": "https://localhost:8080/"
        },
        "id": "yRzO4bmQ11mc",
        "outputId": "ea4f9231-ec49-4bd5-b01b-fc4afe317769"
      },
      "execution_count": null,
      "outputs": [
        {
          "output_type": "stream",
          "name": "stdout",
          "text": [
            "Enter a string :Ojas Kambli\n",
            "Given String: Ojas Kambli\n",
            "Given Specified Character: *\n",
            "After replacing vowels with the specified character: *j*s K*mbl*\n"
          ]
        }
      ]
    },
    {
      "cell_type": "code",
      "source": [
        "lim=int(input(\"Enter a number :\"))\n",
        "for x in range(1,lim+1):\n",
        "  for y in range(1,x+1):\n",
        "      print('*',end=\" \")\n",
        "  print(\"\\r\")\n",
        "for i in range(lim , 0, -1):\n",
        "    for j in range(0, i - 1):\n",
        "        print(\"*\", end=' ')\n",
        "    print(\" \")"
      ],
      "metadata": {
        "colab": {
          "base_uri": "https://localhost:8080/"
        },
        "id": "lZXYZRUKzJpu",
        "outputId": "4a3bcbe8-ee06-4189-e4b5-42d98157dc0c"
      },
      "execution_count": null,
      "outputs": [
        {
          "output_type": "stream",
          "name": "stdout",
          "text": [
            "Enter a number :7\n",
            "* \n",
            "* * \n",
            "* * * \n",
            "* * * * \n",
            "* * * * * \n",
            "* * * * * * \n",
            "* * * * * * * \n",
            "* * * * * *  \n",
            "* * * * *  \n",
            "* * * *  \n",
            "* * *  \n",
            "* *  \n",
            "*  \n",
            " \n"
          ]
        }
      ]
    }
  ]
}