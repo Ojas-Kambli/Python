{
  "nbformat": 4,
  "nbformat_minor": 0,
  "metadata": {
    "colab": {
      "provenance": []
    },
    "kernelspec": {
      "name": "python3",
      "display_name": "Python 3"
    },
    "language_info": {
      "name": "python"
    }
  },
  "cells": [
    {
      "cell_type": "code",
      "execution_count": null,
      "metadata": {
        "colab": {
          "base_uri": "https://localhost:8080/"
        },
        "id": "bnNlWsFlRXbj",
        "outputId": "3ad0c35b-320a-4bdc-dc86-6455f35dd6a7"
      },
      "outputs": [
        {
          "output_type": "stream",
          "name": "stdout",
          "text": [
            "Enter the number to be cubed : 3\n",
            "The Cube is :  27\n"
          ]
        }
      ],
      "source": [
        "class abc:\n",
        "  def __init__(self,cube):\n",
        "    self.cube=cube\n",
        "  def _cubing(self):#__cubing\n",
        "    a=self.cube*self.cube*self.cube\n",
        "    print(\"The Cube is : \",a)\n",
        "class de(abc):\n",
        "  pass\n",
        "s1=int(input(\"Enter the number to be cubed : \"))\n",
        "s2=de(s1)\n",
        "s2._cubing()"
      ]
    },
    {
      "cell_type": "code",
      "source": [
        "class shape:\n",
        "  def __init__(self,len,bre):\n",
        "    self.len=len\n",
        "    self.bre=bre\n",
        "class circle(shape):\n",
        "  pi=3.147\n",
        "  def __init__(self,r):\n",
        "    self.r=r\n",
        "  def calc(self):\n",
        "    self.area=self.pi*self.r*self.r\n",
        "  def display(self):\n",
        "    print(\"The area of a circle with radius \",self.r,\" is \",self.area)\n",
        "class triangle(shape):\n",
        "  def __init__(self,l,b):\n",
        "    self.l=l\n",
        "    self.b=b\n",
        "  def calc(self):\n",
        "    self.area=0.5*self.l*self.b\n",
        "  def display(self):\n",
        "    print(\"The area of a triangle with base \",self.b,\"and height \",self.l,\" is \",self.area)\n",
        "class square(shape):\n",
        "  def __init__(self,s):\n",
        "    self.s=s\n",
        "  def calc(self):\n",
        "    self.area=self.s*self.s\n",
        "  def display(self):\n",
        "    print(\"The area of a square with length of side \",self.s,\" is \",self.area)\n",
        "print(\"  Enter 1 for Circle\\n\\t2 for Triangle\\n\\t3 for Square\")\n",
        "n=int(input(\"Enter your choice : \"))\n",
        "if n==1:\n",
        "  r=float(input(\"Enter the radius of the circle : \"))\n",
        "  obj1=circle(r)\n",
        "  obj1.calc()\n",
        "  obj1.display()\n",
        "elif n==2:\n",
        "  b=float(input(\"Enter the base of the triangle : \"))\n",
        "  h=float(input(\"Enter the height of the triangle : \"))\n",
        "  obj2=triangle(b,h)\n",
        "  obj2.calc()\n",
        "  obj2.display()\n",
        "elif n==3:\n",
        "  s=float(input(\"Enter the length of the side of the square : \"))\n",
        "  obj3=circle(s)\n",
        "  obj3.calc()\n",
        "  obj3.display()"
      ],
      "metadata": {
        "colab": {
          "base_uri": "https://localhost:8080/"
        },
        "id": "JM_LyxB5Vbc1",
        "outputId": "5b8221ff-e415-4f22-b69f-10fade53f2ce"
      },
      "execution_count": null,
      "outputs": [
        {
          "output_type": "stream",
          "name": "stdout",
          "text": [
            "  Enter 1 for Circle\n",
            "\t2 for Triangle\n",
            "\t3 for Square\n",
            "Enter your choice : 2\n",
            "Enter the base of the triangle : 17\n",
            "Enter the height of the triangle : 13\n",
            "The area of a triangle with base  13.0 and height  17.0  is  110.5\n"
          ]
        }
      ]
    },
    {
      "cell_type": "code",
      "source": [
        "class First:\n",
        "    def input1(self):\n",
        "        self.x = int(input(\"Enter first number : \"))\n",
        "\n",
        "class Second:\n",
        "    def input2(self):\n",
        "        self.y = int(input(\"Enter second number : \"))\n",
        "\n",
        "class Third(First, Second):\n",
        "    def add(self):\n",
        "        super().input1()\n",
        "        super().input2()\n",
        "        self.z = self.x + self.y\n",
        "        print(\"Sum is : \",self.z)\n",
        "\n",
        "obj = Third()\n",
        "obj.add()"
      ],
      "metadata": {
        "colab": {
          "base_uri": "https://localhost:8080/"
        },
        "id": "n04ghL-Qas9H",
        "outputId": "c4ff3d4f-cbc9-413f-87be-5595056a4eec"
      },
      "execution_count": null,
      "outputs": [
        {
          "output_type": "stream",
          "name": "stdout",
          "text": [
            "Enter first number : 17\n",
            "Enter second number : 23\n",
            "Sum is :  40\n"
          ]
        }
      ]
    },
    {
      "cell_type": "code",
      "source": [
        "class Node:\n",
        "    def __init__(self,data):\n",
        "        self.data = data;\n",
        "        self.next = None;\n",
        "class InsertMid:\n",
        "    def __init__(self):\n",
        "        self.head = None;\n",
        "        self.tail = None;\n",
        "        self.size = 0;\n",
        "    def addNode(self, data):\n",
        "        newNode = Node(data);\n",
        "        if(self.head == None):\n",
        "            self.head = newNode;\n",
        "            self.tail = newNode;\n",
        "        else:\n",
        "            self.tail.next = newNode;\n",
        "            self.tail = newNode;\n",
        "        self.size = self.size + 1;\n",
        "    def addInMid(self, data):\n",
        "        newNode = Node(data);\n",
        "        if(self.head == None):\n",
        "            self.head = newNode;\n",
        "            self.tail = newNode;\n",
        "        else:\n",
        "            count = (self.size//2) if(self.size % 2 == 0) else ((self.size+1)//2);\n",
        "            temp = self.head;\n",
        "            current = None;\n",
        "            for i in range(0, count):\n",
        "                current = temp;\n",
        "                temp = temp.next;\n",
        "            current.next = newNode;\n",
        "            newNode.next = temp;\n",
        "        self.size = self.size + 1;\n",
        "    def display(self):\n",
        "        current = self.head;\n",
        "        if(self.head == None):\n",
        "            print(\"List is empty\");\n",
        "            return;\n",
        "        while(current != None):\n",
        "            print(current.data)\n",
        "            current = current.next;\n",
        "sList = InsertMid();\n",
        "sList.addNode(1);\n",
        "sList.addNode(2);\n",
        "print(\"Original list: \");\n",
        "sList.display();\n",
        "sList.addInMid(3);\n",
        "print( \"Updated List: \");\n",
        "sList.display();\n",
        "sList.addInMid(4);\n",
        "print(\"Updated List: \");\n",
        "sList.display();"
      ],
      "metadata": {
        "colab": {
          "base_uri": "https://localhost:8080/"
        },
        "id": "QlOuwJzqeUwW",
        "outputId": "c0283240-49a6-49c7-c0fa-ea0ec98b8a85"
      },
      "execution_count": null,
      "outputs": [
        {
          "output_type": "stream",
          "name": "stdout",
          "text": [
            "Original list: \n",
            "1\n",
            "2\n",
            "Updated List: \n",
            "1\n",
            "3\n",
            "2\n",
            "Updated List: \n",
            "1\n",
            "3\n",
            "4\n",
            "2\n"
          ]
        }
      ]
    },
    {
      "cell_type": "code",
      "source": [
        "class Node:\n",
        "    def __init__(self, data):\n",
        "        self.data = data\n",
        "        self.next = None\n",
        "class Stack:\n",
        "    def __init__(self):\n",
        "        self.head = None\n",
        "    def isempty(self):\n",
        "        if self.head == None:\n",
        "            return True\n",
        "        else:\n",
        "            return False\n",
        "    def push(self, data):\n",
        "        if self.head == None:\n",
        "            self.head = Node(data)\n",
        "        else:\n",
        "            newnode = Node(data)\n",
        "            newnode.next = self.head\n",
        "            self.head = newnode\n",
        "    def pop(self):\n",
        "        if self.isempty():\n",
        "            return None\n",
        "        else:\n",
        "            poppednode = self.head\n",
        "            self.head = self.head.next\n",
        "            poppednode.next = None\n",
        "            return poppednode.data\n",
        "    def peek(self):\n",
        "        if self.isempty():\n",
        "            return None\n",
        "        else:\n",
        "            return self.head.data\n",
        "    def display(self):\n",
        "        iternode = self.head\n",
        "        if self.isempty():\n",
        "            print(\"Stack Underflow\")\n",
        "        else:\n",
        "            while(iternode != None):\n",
        "                print(iternode.data, end = \"\")\n",
        "                iternode = iternode.next\n",
        "                if(iternode != None):\n",
        "                    print(\" -> \", end = \"\")\n",
        "            return\n",
        "if __name__ == \"__main__\":\n",
        "  MyStack = Stack()\n",
        "  MyStack.push(11)\n",
        "  MyStack.push(22)\n",
        "  MyStack.push(33)\n",
        "  MyStack.push(44)\n",
        "  MyStack.display()\n",
        "  print(\"\\nTop element is \",MyStack.peek())\n",
        "  MyStack.pop()\n",
        "  MyStack.pop()\n",
        "  MyStack.display()\n",
        "  print(\"\\nTop element is \",MyStack.peek())"
      ],
      "metadata": {
        "colab": {
          "base_uri": "https://localhost:8080/"
        },
        "id": "IlElf9xxYc-i",
        "outputId": "10813993-b6ca-4f13-926a-119c89018df2"
      },
      "execution_count": null,
      "outputs": [
        {
          "output_type": "stream",
          "name": "stdout",
          "text": [
            "44 -> 33 -> 22 -> 11\n",
            "Top element is  44\n",
            "22 -> 11\n",
            "Top element is  22\n"
          ]
        }
      ]
    }
  ]
}