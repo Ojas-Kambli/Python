{
  "nbformat": 4,
  "nbformat_minor": 0,
  "metadata": {
    "colab": {
      "provenance": []
    },
    "kernelspec": {
      "name": "python3",
      "display_name": "Python 3"
    },
    "language_info": {
      "name": "python"
    }
  },
  "cells": [
    {
      "cell_type": "code",
      "execution_count": null,
      "metadata": {
        "colab": {
          "base_uri": "https://localhost:8080/"
        },
        "id": "7leA9m5dps9F",
        "outputId": "774970b6-e50c-4687-a84c-a918abedae1d"
      },
      "outputs": [
        {
          "output_type": "stream",
          "name": "stdout",
          "text": [
            "Enter the first number : 12\n",
            "Enter the second number : 49\n",
            "Enter the first string : Ojas \n",
            "Enter the second string : Kambli\n",
            "The concatenated string is :  Ojas Kambli  of length  11\n",
            "The enumerated string is :  [(0, 'O'), (1, 'j'), (2, 'a'), (3, 's'), (4, ' '), (5, 'K'), (6, 'a'), (7, 'm'), (8, 'b'), (9, 'l'), (10, 'i')]\n",
            "['O', 'j', 'a', 's', ' ', 'a', 'm', 'b', 'l', 'i']\n",
            "The addition of  12  and  49  is  61\n",
            "The multiplication of  12  and  49  is  588\n"
          ]
        }
      ],
      "source": [
        "#WAP to take two numbers in python and show their addition, multiplication\n",
        "#also take two strings with different quotes and concatenate them\n",
        "a=int(input(\"Enter the first number : \"))\n",
        "b=int(input(\"Enter the second number : \"))\n",
        "str1=input(\"Enter the first string : \")\n",
        "str2=input(\"Enter the second string : \")\n",
        "sumstr=str1+str2\n",
        "print(\"The concatenated string is : \",sumstr,\" of length \",len(sumstr))\n",
        "li_en=list(enumerate(sumstr))\n",
        "print(\"The enumerated string is : \",li_en)\n",
        "li=list(sumstr)\n",
        "del li[5]\n",
        "print(li)\n",
        "c=a+b\n",
        "print(\"The addition of \",a,\" and \",b,\" is \",c)\n",
        "c=a*b\n",
        "print(\"The multiplication of \",a,\" and \",b,\" is \",c)"
      ]
    },
    {
      "cell_type": "code",
      "source": [
        "stations=[\"Borivali\",\"Kadivali\",\"Malad\",\"Goregaon\",\"Ram Mandir\",\"Jogeshwari\",\"Andheri\"]\n",
        "print(\"The original list is : \",stations)\n",
        "stations.append(\"Vile parle\")\n",
        "print(\"The updated list is : \",stations)\n",
        "st_1=[\"Vile parle\",\"Khar Road\"]\n",
        "stations.extend(st_1)\n",
        "print(\"The updated list is : \",stations)\n",
        "print(\"Vile parle appears in the list \",stations.count(\"Vile parle\"),\" times\")\n",
        "stations.insert(0,\"Dahisar\")\n",
        "print(\"The updated list is : \",stations)\n",
        "stations.remove(\"Vile parle\")\n",
        "print(\"The updated list is : \",stations)\n",
        "stations.pop()\n",
        "print(\"The updated list is : \",stations)\n",
        "print(\"The position of Malad is \",stations.index(\"Malad\"))\n",
        "stat=stations.copy()\n",
        "stations.sort()\n",
        "print(\"The sorted list is \",stations)\n",
        "stations.reverse()\n",
        "print(\"The reversed list is \",stations)\n",
        "stations.clear()\n",
        "print(\"The updated list is : \",stations)\n",
        "print(\"The List was \",stat)\n"
      ],
      "metadata": {
        "colab": {
          "base_uri": "https://localhost:8080/"
        },
        "id": "_Oyq0VXcxr-Q",
        "outputId": "f6bcc306-2cc1-40ca-e162-f64f7d54052a"
      },
      "execution_count": null,
      "outputs": [
        {
          "output_type": "stream",
          "name": "stdout",
          "text": [
            "The original list is :  ['Borivali', 'Kadivali', 'Malad', 'Goregaon', 'Ram Mandir', 'Jogeshwari', 'Andheri']\n",
            "The updated list is :  ['Borivali', 'Kadivali', 'Malad', 'Goregaon', 'Ram Mandir', 'Jogeshwari', 'Andheri', 'Vile parle']\n",
            "The updated list is :  ['Borivali', 'Kadivali', 'Malad', 'Goregaon', 'Ram Mandir', 'Jogeshwari', 'Andheri', 'Vile parle', 'Vile parle', 'Khar Road']\n",
            "Vile parle appears in the list  2  times\n",
            "The updated list is :  ['Dahisar', 'Borivali', 'Kadivali', 'Malad', 'Goregaon', 'Ram Mandir', 'Jogeshwari', 'Andheri', 'Vile parle', 'Vile parle', 'Khar Road']\n",
            "The updated list is :  ['Dahisar', 'Borivali', 'Kadivali', 'Malad', 'Goregaon', 'Ram Mandir', 'Jogeshwari', 'Andheri', 'Vile parle', 'Khar Road']\n",
            "The updated list is :  ['Dahisar', 'Borivali', 'Kadivali', 'Malad', 'Goregaon', 'Ram Mandir', 'Jogeshwari', 'Andheri', 'Vile parle']\n",
            "The position of Malad is  3\n",
            "The sorted list is  ['Andheri', 'Borivali', 'Dahisar', 'Goregaon', 'Jogeshwari', 'Kadivali', 'Malad', 'Ram Mandir', 'Vile parle']\n",
            "The reversed list is  ['Vile parle', 'Ram Mandir', 'Malad', 'Kadivali', 'Jogeshwari', 'Goregaon', 'Dahisar', 'Borivali', 'Andheri']\n",
            "The updated list is :  []\n",
            "The List was  ['Dahisar', 'Borivali', 'Kadivali', 'Malad', 'Goregaon', 'Ram Mandir', 'Jogeshwari', 'Andheri', 'Vile parle']\n"
          ]
        }
      ]
    },
    {
      "cell_type": "code",
      "source": [
        "#List comprehension\n",
        "fact=1\n",
        "lim=int(input(\"Enter the number you want the factorial of \"))\n",
        "for x in range(1,lim+1):\n",
        "  fact*=x\n",
        "print(\"The factorial of \",lim,\" is \",fact)"
      ],
      "metadata": {
        "colab": {
          "base_uri": "https://localhost:8080/"
        },
        "id": "vL9eZkS941Ve",
        "outputId": "436a7f55-b8eb-4346-e753-2b940da85f8e"
      },
      "execution_count": null,
      "outputs": [
        {
          "output_type": "stream",
          "name": "stdout",
          "text": [
            "Enter the number you want the factorial of7\n",
            "The factorial of  7  is  5040\n"
          ]
        }
      ]
    },
    {
      "cell_type": "code",
      "source": [
        "num=[]\n",
        "for x in range(1,6):\n",
        "  num.append(x*x)\n",
        "print(num)\n",
        "num=[num*num for num in range(1,6)]\n",
        "print(num)"
      ],
      "metadata": {
        "colab": {
          "base_uri": "https://localhost:8080/"
        },
        "id": "yK8-CPXS3gt3",
        "outputId": "865a58ae-f553-4cff-bca1-768ccc14c7e7"
      },
      "execution_count": null,
      "outputs": [
        {
          "output_type": "stream",
          "name": "stdout",
          "text": [
            "[1, 4, 9, 16, 25]\n",
            "[1, 4, 9, 16, 25]\n"
          ]
        }
      ]
    }
  ]
}