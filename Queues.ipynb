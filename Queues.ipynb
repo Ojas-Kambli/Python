{
  "nbformat": 4,
  "nbformat_minor": 0,
  "metadata": {
    "colab": {
      "provenance": []
    },
    "kernelspec": {
      "name": "python3",
      "display_name": "Python 3"
    },
    "language_info": {
      "name": "python"
    }
  },
  "cells": [
    {
      "cell_type": "code",
      "execution_count": null,
      "metadata": {
        "colab": {
          "base_uri": "https://localhost:8080/"
        },
        "id": "DSJL6IlG6su1",
        "outputId": "a40c8599-43fc-4877-e175-8eeb8c05a43b"
      },
      "outputs": [
        {
          "output_type": "stream",
          "name": "stdout",
          "text": [
            "0\n",
            "\n",
            "Full:  True\n",
            "\n",
            "Elements dequeued from the queue\n",
            "a\n",
            "b\n",
            "c\n",
            "\n",
            "Empty:  True\n",
            "\n",
            "Empty:  False\n",
            "Full:  False\n"
          ]
        }
      ],
      "source": [
        "# Python program to\n",
        "# demonstrate implementation of\n",
        "# queue using queue module\n",
        "\n",
        "\n",
        "from queue import Queue\n",
        "\n",
        "# Initializing a queue\n",
        "q = Queue(maxsize = 3)\n",
        "\n",
        "# qsize() give the maxsize\n",
        "# of the Queue\n",
        "print(q.qsize())\n",
        "\n",
        "# Adding of element to queue\n",
        "q.put('a')\n",
        "q.put('b')\n",
        "q.put('c')\n",
        "\n",
        "# Return Boolean for Full\n",
        "# Queue\n",
        "print(\"\\nFull: \", q.full())\n",
        "\n",
        "# Removing element from queue\n",
        "print(\"\\nElements dequeued from the queue\")\n",
        "print(q.get())\n",
        "print(q.get())\n",
        "print(q.get())\n",
        "\n",
        "# Return Boolean for Empty\n",
        "# Queue\n",
        "print(\"\\nEmpty: \", q.empty())\n",
        "\n",
        "q.put(1)\n",
        "print(\"\\nEmpty: \", q.empty())\n",
        "print(\"Full: \", q.full())\n",
        "\n",
        "# This would result into Infinite\n",
        "# Loop as the Queue is empty.\n",
        "# print(q.get())\n"
      ]
    },
    {
      "cell_type": "code",
      "source": [
        "# Python program to\n",
        "# demonstrate queue implementation\n",
        "# using collections.dequeue\n",
        "\n",
        "\n",
        "from collections import deque\n",
        "\n",
        "# Initializing a queue\n",
        "q = deque()\n",
        "\n",
        "# Adding elements to a queue\n",
        "q.append('a')\n",
        "q.append('b')\n",
        "q.append('c')\n",
        "\n",
        "print(\"Initial queue\")\n",
        "print(q)\n",
        "\n",
        "# Removing elements from a queue\n",
        "print(\"\\nElements dequeued from the queue\")\n",
        "print(q.popleft())\n",
        "print(q.popleft())\n",
        "print(q.popleft())\n",
        "\n",
        "print(\"\\nQueue after removing elements\")\n",
        "print(q)\n",
        "\n",
        "# Uncommenting q.popleft()\n",
        "# will raise an IndexError\n",
        "# as queue is now empty"
      ],
      "metadata": {
        "id": "STG08yPH6_UG"
      },
      "execution_count": null,
      "outputs": []
    },
    {
      "cell_type": "code",
      "source": [],
      "metadata": {
        "id": "aYJc0LrW731u"
      },
      "execution_count": null,
      "outputs": []
    }
  ]
}