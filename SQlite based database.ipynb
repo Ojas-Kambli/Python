{
  "nbformat": 4,
  "nbformat_minor": 0,
  "metadata": {
    "colab": {
      "provenance": []
    },
    "kernelspec": {
      "name": "python3",
      "display_name": "Python 3"
    },
    "language_info": {
      "name": "python"
    }
  },
  "cells": [
    {
      "cell_type": "code",
      "source": [
        "import sqlite3\n",
        "\n",
        "\n",
        "def create_table():\n",
        "    conn = sqlite3.connect('myclass.db')\n",
        "    conn.execute('''CREATE TABLE IF NOT EXISTS students\n",
        "                    (id INTEGER PRIMARY KEY AUTOINCREMENT,\n",
        "                    first_name TEXT NOT NULL,\n",
        "                    last_name TEXT NOT NULL,\n",
        "                    roll_number INTEGER NOT NULL,\n",
        "                    address TEXT NOT NULL);''')\n",
        "    conn.close()\n",
        "\n",
        "\n",
        "def add_student(first_name, last_name, roll_number, address):\n",
        "    conn = sqlite3.connect('myclass.db')\n",
        "    conn.execute('''INSERT INTO students (first_name, last_name, roll_number, address)\n",
        "                    VALUES (?, ?, ?, ?);''', (first_name, last_name, roll_number, address))\n",
        "    conn.commit()\n",
        "    conn.close()\n",
        "\n",
        "\n",
        "def display_students():\n",
        "    conn = sqlite3.connect('myclass.db')\n",
        "    students = conn.execute(\"SELECT * FROM students;\").fetchall()\n",
        "    for student in students:\n",
        "        print(student)\n",
        "    conn.close()\n",
        "\n",
        "\n",
        "create_table()\n",
        "add_student(\"Ojas\", \"Kambli\", 39, \"Malad\")\n",
        "add_student(\"Stan\", \"Nadar\", 49, \"Vasai\")\n",
        "add_student(\"Harsh\", \"Kale\", 38, \"Kandivali\")\n",
        "display_students()\n"
      ],
      "metadata": {
        "colab": {
          "base_uri": "https://localhost:8080/"
        },
        "id": "18E9VwDB282J",
        "outputId": "86c07ed4-cd58-408b-e3db-850f1e141678"
      },
      "execution_count": null,
      "outputs": [
        {
          "output_type": "stream",
          "name": "stdout",
          "text": [
            "(1, 'Ojas', 'Kambli', 39, 'Malad')\n",
            "(2, 'Stan', 'Nadar', 49, 'Vasai')\n",
            "(3, 'Harsh', 'Kale', 38, 'Kandivali')\n",
            "(4, 'Ojas', 'Kambli', 39, 'Malad')\n",
            "(5, 'Stan', 'Nadar', 49, 'Vasai')\n",
            "(6, 'Harsh', 'Kale', 38, 'Kandivali')\n"
          ]
        }
      ]
    },
    {
      "cell_type": "code",
      "source": [
        "import sqlite3\n",
        "\n",
        "\n",
        "class MyClassDatabase:\n",
        "    def __init__(self):\n",
        "        self.conn = sqlite3.connect('myclass.db')\n",
        "        self.create_table()\n",
        "\n",
        "    def __del__(self):\n",
        "        self.conn.close()\n",
        "\n",
        "    def create_table(self):\n",
        "        self.conn.execute('''CREATE TABLE IF NOT EXISTS students\n",
        "                        (id INTEGER PRIMARY KEY AUTOINCREMENT,\n",
        "                        first_name TEXT NOT NULL,\n",
        "                        last_name TEXT NOT NULL,\n",
        "                        roll_number INTEGER NOT NULL,\n",
        "                        address TEXT NOT NULL);''')\n",
        "\n",
        "    def add_student(self, first_name, last_name, roll_number, address):\n",
        "        self.conn.execute('''INSERT INTO students (first_name, last_name, roll_number, address)\n",
        "                        VALUES (?, ?, ?, ?);''', (first_name, last_name, roll_number, address))\n",
        "        self.conn.commit()\n",
        "\n",
        "    def display_students(self):\n",
        "        students = self.conn.execute(\"SELECT * FROM students;\").fetchall()\n",
        "        for student in students:\n",
        "            print(student)\n",
        "\n",
        "\n",
        "my_db = MyClassDatabase()\n",
        "my_db.add_student(\"Ojas\", \"Kambli\", 39, \"Malad\")\n",
        "my_db.add_student(\"Stan\", \"Nadar\", 49, \"Vasai\")\n",
        "my_db.add_student(\"Harsh\", \"Kale\", 38, \"Mira Road\")\n",
        "my_db.display_students()\n"
      ],
      "metadata": {
        "colab": {
          "base_uri": "https://localhost:8080/"
        },
        "id": "Egk6XPlo3cVC",
        "outputId": "2f4b1762-f0ff-468b-bcf8-5ba5b6302e34"
      },
      "execution_count": null,
      "outputs": [
        {
          "output_type": "stream",
          "name": "stdout",
          "text": [
            "(1, 'Ojas', 'Kambli', 39, 'Malad')\n",
            "(2, 'Stan', 'Nadar', 49, 'Vasai')\n",
            "(3, 'Harsh', 'Kale', 38, 'Kandivali')\n",
            "(4, 'Ojas', 'Kambli', 39, 'Malad')\n",
            "(5, 'Stan', 'Nadar', 49, 'Vasai')\n",
            "(6, 'Harsh', 'Kale', 38, 'Kandivali')\n",
            "(7, 'Ojas', 'Kambli', 39, 'Malad')\n",
            "(8, 'Stan', 'Nadar', 49, 'Vasai')\n",
            "(9, 'Harsh', 'Kale', 38, 'Mira Road')\n"
          ]
        }
      ]
    },
    {
      "cell_type": "code",
      "source": [
        "import sqlite3\n",
        "\n",
        "\n",
        "def create_database(database_name):\n",
        "    conn = sqlite3.connect(database_name)\n",
        "    conn.close()\n",
        "\n",
        "\n",
        "def create_table(database_name, table_name):\n",
        "    conn = sqlite3.connect(database_name)\n",
        "    conn.execute(f'''CREATE TABLE IF NOT EXISTS {table_name}\n",
        "                    (id INTEGER PRIMARY KEY AUTOINCREMENT,\n",
        "                    first_name TEXT NOT NULL,\n",
        "                    last_name TEXT NOT NULL,\n",
        "                    roll_number INTEGER NOT NULL,\n",
        "                    address TEXT NOT NULL);''')\n",
        "    conn.close()\n",
        "\n",
        "\n",
        "def add_student(database_name, table_name, first_name, last_name, roll_number, address):\n",
        "    conn = sqlite3.connect(database_name)\n",
        "    conn.execute(f'''INSERT INTO {table_name} (first_name, last_name, roll_number, address)\n",
        "                    VALUES (?, ?, ?, ?);''', (first_name, last_name, roll_number, address))\n",
        "    conn.commit()\n",
        "    conn.close()\n",
        "\n",
        "\n",
        "def display_students(database_name, table_name):\n",
        "    conn = sqlite3.connect(database_name)\n",
        "    students = conn.execute(f\"SELECT * FROM {table_name};\").fetchall()\n",
        "    for student in students:\n",
        "        print(student)\n",
        "    conn.close()\n",
        "\n",
        "\n",
        "def main():\n",
        "    database_name = 'myclass.db'\n",
        "    table_name = 'students'\n",
        "    create_database(database_name)\n",
        "    create_table(database_name, table_name)\n",
        "    add_student(database_name, table_name, \"Ojas\", \"Kambli\", 39, \"Malad\")\n",
        "    add_student(database_name, table_name, \"Manav\", \"Ghadi\", 49, \"Vasai\")\n",
        "    add_student(database_name, table_name, \"Harsh\", \"Kale\", 38, \"Mira Road\")\n",
        "    display_students(database_name, table_name)\n",
        "\n",
        "\n",
        "if __name__ == '__main__':\n",
        "    main()\n"
      ],
      "metadata": {
        "id": "296P5TS93cE9",
        "outputId": "0ba17f5c-d816-4b58-8d0f-0877aa062f19",
        "colab": {
          "base_uri": "https://localhost:8080/"
        }
      },
      "execution_count": null,
      "outputs": [
        {
          "output_type": "stream",
          "name": "stdout",
          "text": [
            "(1, 'Ojas', 'Kambli', 39, 'Malad')\n",
            "(2, 'Stan', 'Nadar', 49, 'Vasai')\n",
            "(3, 'Harsh', 'Kale', 38, 'Kandivali')\n",
            "(4, 'Ojas', 'Kambli', 39, 'Malad')\n",
            "(5, 'Stan', 'Nadar', 49, 'Vasai')\n",
            "(6, 'Harsh', 'Kale', 38, 'Kandivali')\n",
            "(7, 'Ojas', 'Kambli', 39, 'Malad')\n",
            "(8, 'Stan', 'Nadar', 49, 'Vasai')\n",
            "(9, 'Harsh', 'Kale', 38, 'Mira Road')\n",
            "(10, 'Ojas', 'Kambli', 39, 'Malad')\n",
            "(11, 'Manav', 'Ghadi', 49, 'Vasai')\n",
            "(12, 'Harsh', 'Kale', 38, 'Mira Road')\n"
          ]
        }
      ]
    }
  ]
}