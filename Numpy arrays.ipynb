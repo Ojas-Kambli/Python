{
  "nbformat": 4,
  "nbformat_minor": 0,
  "metadata": {
    "colab": {
      "provenance": []
    },
    "kernelspec": {
      "name": "python3",
      "display_name": "Python 3"
    },
    "language_info": {
      "name": "python"
    }
  },
  "cells": [
    {
      "cell_type": "code",
      "execution_count": null,
      "metadata": {
        "colab": {
          "base_uri": "https://localhost:8080/"
        },
        "id": "OOKIZ8CssFwK",
        "outputId": "823c98fc-c8cd-4ccf-dcc4-cd48d535299c"
      },
      "outputs": [
        {
          "output_type": "stream",
          "name": "stdout",
          "text": [
            "[[1 2 3]]\n",
            "[[1 2 3]\n",
            " [4 5 6]]\n",
            "[[0. 0. 0. 0.]\n",
            " [0. 0. 0. 0.]\n",
            " [0. 0. 0. 0.]]\n",
            "[0, 1, 2, 3, 4, 5, 6, 7, 8, 9, 10, 11, 12, 13, 14, 15, 16, 17, 18, 19, 20, 21, 22, 23, 24, 25, 26, 27, 28, 29, 30, 31, 32, 33, 34, 35, 36, 37, 38, 39, 40, 41, 42, 43, 44, 45, 46, 47, 48, 49, 50, 51, 52, 53, 54, 55, 56, 57, 58, 59, 60, 61, 62, 63, 64, 65, 66, 67, 68, 69, 70, 71, 72, 73, 74, 75, 76, 77, 78, 79, 80, 81, 82, 83, 84, 85, 86, 87, 88, 89, 90, 91, 92, 93, 94, 95, 96, 97, 98, 99]\n",
            "28\n",
            "2800\n",
            "[ 0  1  2  3  4  5  6  7  8  9 10 11 12 13 14 15 16 17 18 19 20 21 22 23\n",
            " 24 25 26 27 28 29 30 31 32 33 34 35 36 37 38 39 40 41 42 43 44 45 46 47\n",
            " 48 49 50 51 52 53 54 55 56 57 58 59 60 61 62 63 64 65 66 67 68 69 70 71\n",
            " 72 73 74 75 76 77 78 79 80 81 82 83 84 85 86 87 88 89 90 91 92 93 94 95\n",
            " 96 97 98 99]\n",
            "100\n",
            "800\n",
            "24.500370025634766\n",
            "4.677534103393555\n"
          ]
        }
      ],
      "source": [
        "import numpy as np\n",
        "import sys , time\n",
        "#create single dimensional array\n",
        "a = np.array([(1,2,3)])\n",
        "print(a)\n",
        "#create multi dimensional array\n",
        "b = np.array([(1,2,3) , (4,5,6)])\n",
        "print(b)\n",
        "# Creating a 3X4 array with all zeros\n",
        "c = np.zeros((3, 4))\n",
        "print(c)\n",
        "#nparray occupies less memory space\n",
        "#create a list and calculate size\n",
        "lst = list(range(100))\n",
        "print(lst)\n",
        "#sys.getsizeof(8) returns memory occupied by one element of list\n",
        "print(sys.getsizeof(5))\n",
        "print(sys.getsizeof(8) * len(lst))\n",
        "num = np.arange(100)\n",
        "print(num)\n",
        "print(num.size)\n",
        "print(num.size * num.itemsize)\n",
        "\n",
        "# to prove that numpy arrays are faster than list\n",
        "L1 = list(range(100000))\n",
        "L2 = list(range(100000))\n",
        "start = time.time()\n",
        "result = [(x+y) for x,y in zip(L1,L2)]\n",
        "print((time.time() - start) * 1000)\n",
        "A1 = np.arange(100000)\n",
        "A2 = np.arange(100000)\n",
        "start = time.time()\n",
        "result = A1 + A2\n",
        "print((time.time() - start) * 1000)"
      ]
    },
    {
      "cell_type": "code",
      "source": [
        "import numpy as np\n",
        "import sys , time\n",
        "a = np.array([(1,2,3) , (4,5,6)])\n",
        "print(a.ndim)\n",
        "#size of element check\n",
        "print(a.itemsize)\n",
        "#datatype check\n",
        "print(a.dtype)\n",
        "#Number of elements check\n",
        "print(a.size)\n",
        "#shape check\n",
        "print(a.shape)\n",
        "\n",
        "#reshape check\n",
        "a = np.array([(1,2,3,4) , (4,5,6,7)])\n",
        "print(a)\n",
        "a = a.reshape(4,2)\n",
        "print(a)\n",
        "print(a.shape)\n",
        "\n",
        "#gettting elements usig slicing\n",
        "a = np.array([(1,2,3,4) , (4,5,6,7)])\n",
        "print(a[0,2])\n",
        "print(a[0:,2]) # gives index 2 elements of all rows\n",
        "print(a[0:,3]) # gives index 3 elements of all rows\n",
        "print(a[0:2,3]) # gives index 3 elements of rows initial 2 rows\n",
        "\n",
        "#generating values\n",
        "a = np.linspace(1,5,3) # Generates 3 values between 1 to 5\n",
        "print(a)\n",
        "#getting min , max and sum\n",
        "a = np.array([1,5,13])\n",
        "print(a.max())\n",
        "print(a.min())\n",
        "print(a.sum())\n",
        "\n",
        "#getting sum of rows (axis 1) and columns (axis 0)\n",
        "a = np.array([(1,2,3) , (3,4,5)])\n",
        "print(a)\n",
        "print(a.sum(axis = 0)) # sum of columns\n",
        "print(a.sum(axis = 1)) # sum of rows"
      ],
      "metadata": {
        "colab": {
          "base_uri": "https://localhost:8080/"
        },
        "id": "5FtKrFPLulgE",
        "outputId": "b8af51cf-c219-411a-ced2-495dbaabfdaf"
      },
      "execution_count": null,
      "outputs": [
        {
          "output_type": "stream",
          "name": "stdout",
          "text": [
            "2\n",
            "8\n",
            "int64\n",
            "6\n",
            "(2, 3)\n",
            "[[1 2 3 4]\n",
            " [4 5 6 7]]\n",
            "[[1 2]\n",
            " [3 4]\n",
            " [4 5]\n",
            " [6 7]]\n",
            "(4, 2)\n",
            "3\n",
            "[3 6]\n",
            "[4 7]\n",
            "[4 7]\n",
            "[1. 3. 5.]\n",
            "13\n",
            "1\n",
            "19\n",
            "[[1 2 3]\n",
            " [3 4 5]]\n",
            "[4 6 8]\n",
            "[ 6 12]\n"
          ]
        }
      ]
    },
    {
      "cell_type": "code",
      "source": [
        "import numpy as np\n",
        "import matplotlib.pyplot as plt\n",
        "x = np.arange(0,2*np.pi,0.1)\n",
        "y1 = np.sin(x) # use cos(x) for cosine, tan(x) for tan ...\n",
        "y2 = np.cos(x)\n",
        "plt.plot(x,y1)\n",
        "plt.show()\n",
        "plt.plot(x,y2)\n",
        "plt.show()"
      ],
      "metadata": {
        "colab": {
          "base_uri": "https://localhost:8080/",
          "height": 513
        },
        "id": "f6FlKwo-vO80",
        "outputId": "dedf402a-ee6b-4ea1-a594-b7fe31a9755c"
      },
      "execution_count": null,
      "outputs": [
        {
          "output_type": "display_data",
          "data": {
            "text/plain": [
              "<Figure size 432x288 with 1 Axes>"
            ],
            "image/png": "[encoded data removed]"
          },
          "metadata": {
            "needs_background": "light"
          }
        },
        {
          "output_type": "display_data",
          "data": {
            "text/plain": [
              "<Figure size 432x288 with 1 Axes>"
            ],
            "image/png": "[encoded data removed]"
          },
          "metadata": {
            "needs_background": "light"
          }
        }
      ]
    },
    {
      "cell_type": "code",
      "source": [
        "import numpy as np\n",
        "arr=np.linspace(1,3,12)\n",
        "print(arr)"
      ],
      "metadata": {
        "colab": {
          "base_uri": "https://localhost:8080/"
        },
        "id": "QcFWoS_GwPxd",
        "outputId": "f6296d1c-c27d-40d0-897e-3330b8bcd81b"
      },
      "execution_count": null,
      "outputs": [
        {
          "output_type": "stream",
          "name": "stdout",
          "text": [
            "[1.         1.18181818 1.36363636 1.54545455 1.72727273 1.90909091\n",
            " 2.09090909 2.27272727 2.45454545 2.63636364 2.81818182 3.        ]\n"
          ]
        }
      ]
    },
    {
      "cell_type": "code",
      "source": [
        "import numpy as np\n",
        "a = np.array([(13,12,31,4) , (45,521,16,37)])\n",
        "print(\"The array is : \\n\",a)\n",
        "print(\"Max: \",a.max())\n",
        "print(\"Min: \",a.min())\n",
        "print(\"The sorted array:\\n\",np.sort(a))\n",
        "mn=np.mean(a, dtype=np.float64)\n",
        "print(\"The mean is : \",mn)\n",
        "column_to_be_added = np.array([[15], [29]])\n",
        "#a = np.insert(a, 0, column_to_be_added, axis=1)\n",
        "arr = np.concatenate([a, column_to_be_added], axis=1)\n",
        "print(\"The added array is :\\n\",arr)\n",
        "print(\"The flipped array is:\\n\",np.flip(arr))\n",
        "a2= np.array([(11,192,13,45,16) , (47,51,106,7,64)])\n",
        "print(\"The second array:\\n\",a2)\n",
        "print(\"The multiplication of the two arraysarr*a2)"
      ],
      "metadata": {
        "colab": {
          "base_uri": "https://localhost:8080/"
        },
        "id": "YcGM4EyAxv5N",
        "outputId": "b459ffb7-bd0f-48c8-9a02-275deefceb13"
      },
      "execution_count": null,
      "outputs": [
        {
          "output_type": "stream",
          "name": "stdout",
          "text": [
            "The array is : \n",
            " [[ 13  12  31   4]\n",
            " [ 45 521  16  37]]\n",
            "Max:  521\n",
            "Min:  4\n",
            "The sorted array:\n",
            " [[  4  12  13  31]\n",
            " [ 16  37  45 521]]\n",
            "The mean is :  84.875\n",
            "The added array is :\n",
            " [[ 13  12  31   4  15]\n",
            " [ 45 521  16  37  29]]\n",
            "The flipped array is:\n",
            " [[ 29  37  16 521  45]\n",
            " [ 15   4  31  12  13]]\n",
            "The second array:\n",
            " [[ 11 192  13  45  16]\n",
            " [ 47  51 106   7  64]]\n",
            "The multiplication of the two matrices is:\n",
            " [[  143  2304   403   180   240]\n",
            " [ 2115 26571  1696   259  1856]]\n"
          ]
        }
      ]
    }
  ]
}