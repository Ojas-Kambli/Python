{
  "nbformat": 4,
  "nbformat_minor": 0,
  "metadata": {
    "colab": {
      "provenance": []
    },
    "kernelspec": {
      "name": "python3",
      "display_name": "Python 3"
    },
    "language_info": {
      "name": "python"
    }
  },
  "cells": [
    {
      "cell_type": "code",
      "execution_count": null,
      "metadata": {
        "colab": {
          "base_uri": "https://localhost:8080/"
        },
        "id": "es4OuzxX7lKh",
        "outputId": "1ae882d8-7689-4770-a2b7-ef6f0191f4ac"
      },
      "outputs": [
        {
          "output_type": "stream",
          "name": "stdout",
          "text": [
            "Enter your file name :temp (2).txt\n",
            "['But', 'soft', 'what', 'light', 'through', 'yonder', 'window', 'breaks', 'It', 'is', 'the', 'east', 'and', 'Juliet', 'sun', 'Arise', 'fair', 'kill', 'envious', 'moon', 'Who', 'already', 'sick', 'pale', 'with', 'grief']\n"
          ]
        }
      ],
      "source": [
        "fn=input(\"Enter your file name :\")\n",
        "f1=open(fn)\n",
        "l1=list()\n",
        "for line in f1:\n",
        "  line.rstrip()\n",
        "  word=line.split()\n",
        "  for j in word:\n",
        "    l1.append(j)\n",
        "unique = list()\n",
        "for word in l1:\n",
        "    if word not in unique:\n",
        "        unique.append(word)\n",
        "print(unique)"
      ]
    },
    {
      "cell_type": "code",
      "source": [
        "fn=input(\"Enter your file name :\")\n",
        "f1=open(fn)\n",
        "count=0\n",
        "l1=list()\n",
        "for line in f1:\n",
        "  line.rstrip()\n",
        "  word=line.split()\n",
        "  for j in range(len(word)):\n",
        "      if(word[j].lower()=='from' and '@' in word[j+1]):\n",
        "        print(word[j+1])\n",
        "        count+=1\n",
        "print(\"The number of email ids are : \",count)"
      ],
      "metadata": {
        "colab": {
          "base_uri": "https://localhost:8080/"
        },
        "id": "UIho_WeI8SMq",
        "outputId": "311caf53-01e8-4e86-df6a-638cc3e8a1f4"
      },
      "execution_count": null,
      "outputs": [
        {
          "output_type": "stream",
          "name": "stdout",
          "text": [
            "Enter your file name :mbox-short.txt\n",
            "stephen.marquard@uct.ac.za\n",
            "louis@media.berkeley.edu\n",
            "zqian@umich.edu\n",
            "rjlowe@iupui.edu\n",
            "zqian@umich.edu\n",
            "rjlowe@iupui.edu\n",
            "cwen@iupui.edu\n",
            "cwen@iupui.edu\n",
            "gsilver@umich.edu\n",
            "gsilver@umich.edu\n",
            "zqian@umich.edu\n",
            "gsilver@umich.edu\n",
            "wagnermr@iupui.edu\n",
            "zqian@umich.edu\n",
            "antranig@caret.cam.ac.uk\n",
            "gopal.ramasammycook@gmail.com\n",
            "david.horwitz@uct.ac.za\n",
            "david.horwitz@uct.ac.za\n",
            "david.horwitz@uct.ac.za\n",
            "david.horwitz@uct.ac.za\n",
            "stephen.marquard@uct.ac.za\n",
            "louis@media.berkeley.edu\n",
            "louis@media.berkeley.edu\n",
            "ray@media.berkeley.edu\n",
            "cwen@iupui.edu\n",
            "cwen@iupui.edu\n",
            "cwen@iupui.edu\n",
            "The number of email ids are :  27\n"
          ]
        }
      ]
    },
    {
      "cell_type": "code",
      "source": [
        "dict1={}\n",
        "print(dict1)\n",
        "dict1={'1':'Impala','2':'Baboon','3':'Meerkat'}\n",
        "print(dict1)\n",
        "dict1[4]='Sambhal'\n",
        "print(dict1)\n",
        "dict1.update({'5':'Koala'})\n",
        "print(dict1)\n",
        "print(dict1.keys())\n",
        "print(dict1.values())\n",
        "#dict1.sorted()\n",
        "dict2=dict.fromkeys(dict1,2)\n",
        "print(dict2)\n",
        "print(dict1.items())\n",
        "x=dict1.setdefault(\"3\",\"Flying Squirrel\")\n",
        "print(x)\n",
        "y=dict1.copy()\n",
        "print(y)\n",
        "dict1.pop('2')\n",
        "print(dict1)\n",
        "dict1.popitem()\n",
        "print(dict1)\n",
        "dict1.clear()\n",
        "print(dict1)\n",
        "#del dict1\n",
        "#print(dict1)"
      ],
      "metadata": {
        "colab": {
          "base_uri": "https://localhost:8080/"
        },
        "id": "Ti78acM_CY-C",
        "outputId": "31297710-0f53-49a6-d6fc-ed40ad1f37a4"
      },
      "execution_count": null,
      "outputs": [
        {
          "output_type": "stream",
          "name": "stdout",
          "text": [
            "{}\n",
            "{'1': 'Impala', '2': 'Baboon', '3': 'Meerkat'}\n",
            "{'1': 'Impala', '2': 'Baboon', '3': 'Meerkat', 4: 'Sambhal'}\n",
            "{'1': 'Impala', '2': 'Baboon', '3': 'Meerkat', 4: 'Sambhal', '5': 'Koala'}\n",
            "dict_keys(['1', '2', '3', 4, '5'])\n",
            "dict_values(['Impala', 'Baboon', 'Meerkat', 'Sambhal', 'Koala'])\n",
            "{'1': 2, '2': 2, '3': 2, 4: 2, '5': 2}\n",
            "dict_items([('1', 'Impala'), ('2', 'Baboon'), ('3', 'Meerkat'), (4, 'Sambhal'), ('5', 'Koala')])\n",
            "Meerkat\n",
            "{'1': 'Impala', '2': 'Baboon', '3': 'Meerkat', 4: 'Sambhal', '5': 'Koala'}\n",
            "{'1': 'Impala', '3': 'Meerkat', 4: 'Sambhal', '5': 'Koala'}\n",
            "{'1': 'Impala', '3': 'Meerkat', 4: 'Sambhal'}\n",
            "{}\n"
          ]
        }
      ]
    },
    {
      "cell_type": "code",
      "source": [
        "fname = input(\"Enter file:\")\n",
        "hand = open(fname)\n",
        "\n",
        "lst = list()\n",
        "\n",
        "for line in hand:\n",
        "    if not line.startswith(\"From:\"): continue\n",
        "    line = line.split()\n",
        "    lst.append(line[1])\n",
        "\n",
        "counts = dict()\n",
        "for word in lst:\n",
        "    counts[word] = counts.get(word,0) + 1\n",
        "\n",
        "bigcount = None\n",
        "bigword = None\n",
        "for word,count in counts.items():\n",
        "    if bigcount is None or count > bigcount:\n",
        "        bigcount = count\n",
        "        bigword = word\n",
        "print(\"The person with the most emails sent : \",bigword)\n",
        "print (\"The number of emails \",bigword,\" has sent is \",bigcount)"
      ],
      "metadata": {
        "colab": {
          "base_uri": "https://localhost:8080/"
        },
        "id": "5lR4PO8gHk7b",
        "outputId": "94b46d8a-c801-4ddb-a2b9-d6bb13324733"
      },
      "execution_count": null,
      "outputs": [
        {
          "output_type": "stream",
          "name": "stdout",
          "text": [
            "Enter file:mbox-short.txt\n",
            "The person with the most emails sent :  cwen@iupui.edu\n",
            "The number of emails  cwen@iupui.edu  has sent is  5\n"
          ]
        }
      ]
    }
  ]
}