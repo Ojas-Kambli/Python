{
  "nbformat": 4,
  "nbformat_minor": 0,
  "metadata": {
    "colab": {
      "provenance": []
    },
    "kernelspec": {
      "name": "python3",
      "display_name": "Python 3"
    },
    "language_info": {
      "name": "python"
    }
  },
  "cells": [
    {
      "cell_type": "code",
      "execution_count": null,
      "metadata": {
        "colab": {
          "base_uri": "https://localhost:8080/"
        },
        "id": "vVAY00xhAW_m",
        "outputId": "e8fb761c-5e9a-4ff0-ef31-04b8f2b216bf"
      },
      "outputs": [
        {
          "output_type": "stream",
          "name": "stdout",
          "text": [
            "Cherry\n",
            "Banana\n",
            "Cherry\n",
            "Watermelon\n",
            "The number of items in the list is :  8\n",
            "The new list is :  ['Kiwi', 'Lemon', 'Banana', 'Cherry', 'Watermelon', 'Longan', 'Pineapple', 'Dragon Fruit']\n"
          ]
        }
      ],
      "source": [
        "fruits=[\"Apple\",\"Banana\",\"Cherry\"]\n",
        "fruits.insert(1,\"Lemon\")\n",
        "print(fruits[-1])\n",
        "fru2=[\"Watermelon\",\"Longan\",\"Pineapple\",\"Dragon Fruit\"]\n",
        "fruits.extend(fru2)\n",
        "for x in range(2,5):\n",
        "  print(fruits[x])\n",
        "print(\"The number of items in the list is : \",len(fruits))\n",
        "for i in range(len(fruits)):\n",
        "    if fruits[i] == 'Apple':\n",
        "        fruits[i] = 'Kiwi'\n",
        "print(\"The new list is : \",fruits)"
      ]
    },
    {
      "cell_type": "code",
      "source": [
        "tup1=\"Vasai Road\",\"Naigaon\",\"Bhayendar\",\"Mira Road\",\"Dahisar\"\n",
        "a,b,c,d,e=tup1\n",
        "print(a,c,e)\n",
        "tup2=\"Borivali\",\"Kandivali\",\"Malad\",\"Goregaon\",\"Ram Mandir\"\n",
        "print(tup2)\n",
        "tup3=tup1+tup2\n",
        "for i in range(len(tup3)):\n",
        "  print(tup3[i])\n",
        "z,*y,x=tup3\n",
        "print(z,y,x)\n",
        "a,*_b,c=tup1\n",
        "print(a,b,c)"
      ],
      "metadata": {
        "colab": {
          "base_uri": "https://localhost:8080/"
        },
        "id": "RYjBcXRvEVc-",
        "outputId": "d374c329-5732-4f2f-d546-3fa72dec5575"
      },
      "execution_count": null,
      "outputs": [
        {
          "output_type": "stream",
          "name": "stdout",
          "text": [
            "Vasai Road Bhayendar Dahisar\n",
            "('Borivali', 'Kandivali', 'Malad', 'Goregaon', 'Ram Mandir')\n",
            "Vasai Road\n",
            "Naigaon\n",
            "Bhayendar\n",
            "Mira Road\n",
            "Dahisar\n",
            "Borivali\n",
            "Kandivali\n",
            "Malad\n",
            "Goregaon\n",
            "Ram Mandir\n",
            "Vasai Road ['Naigaon', 'Bhayendar', 'Mira Road', 'Dahisar', 'Borivali', 'Kandivali', 'Malad', 'Goregaon'] Ram Mandir\n",
            "Vasai Road Naigaon Dahisar\n"
          ]
        }
      ]
    },
    {
      "cell_type": "markdown",
      "source": [
        "Discard, Remove, Clear, Pop, Add, Update"
      ],
      "metadata": {
        "id": "hLSTe1TfKfrS"
      }
    },
    {
      "cell_type": "code",
      "source": [
        "s1={\"France\",\"Italy\",\"Switzerland\",\"Romania\",\"Netherlands\",\"Denmark\"}\n",
        "print(s1)\n",
        "s1.pop()\n",
        "print(s1)\n",
        "s1.add(\"Germany\")\n",
        "print(s1)\n",
        "s2={\"Lithuania\",\"Iceland\",\"Spain\",\"Finland\"}\n",
        "s1.update(s2)\n",
        "print(s1)\n",
        "s1.discard(\"Netherlands\")\n",
        "print(s1)\n",
        "s1.remove(\"Romania\")\n",
        "print(s1)\n",
        "s1.clear()\n",
        "print(s1)"
      ],
      "metadata": {
        "colab": {
          "base_uri": "https://localhost:8080/"
        },
        "id": "FjBQWfLKKszT",
        "outputId": "c92a33df-8cba-463b-e422-95a2cfb722b0"
      },
      "execution_count": null,
      "outputs": [
        {
          "output_type": "stream",
          "name": "stdout",
          "text": [
            "{'Italy', 'Romania', 'Netherlands', 'Switzerland', 'Denmark', 'France'}\n",
            "{'Romania', 'Netherlands', 'Switzerland', 'Denmark', 'France'}\n",
            "{'Romania', 'Netherlands', 'Germany', 'Switzerland', 'Denmark', 'France'}\n",
            "{'Lithuania', 'Romania', 'Netherlands', 'Germany', 'Spain', 'Switzerland', 'Denmark', 'Iceland', 'Finland', 'France'}\n",
            "{'Lithuania', 'Romania', 'Germany', 'Spain', 'Switzerland', 'Denmark', 'Iceland', 'Finland', 'France'}\n",
            "{'Lithuania', 'Germany', 'Spain', 'Switzerland', 'Denmark', 'Iceland', 'Finland', 'France'}\n",
            "set()\n"
          ]
        }
      ]
    },
    {
      "cell_type": "code",
      "source": [
        "s1={1,3,5,7,9,11,13}\n",
        "s2={0,2,4,6,8,10,12}\n",
        "s3={0,1,3,4,6,7,9,10}\n",
        "print(s1|s2)\n",
        "print(s1|s3)\n",
        "print(s2.union(s3))\n",
        "print(s1&s3)\n",
        "print(s2.intersection(s3))\n",
        "print(s1-s3)\n",
        "print(s3.difference(s1))\n",
        "print(s2-s3)\n",
        "print(s3.difference(s2))\n",
        "print(s1^s3)\n",
        "print(s2.symmetric_difference(s3))\n",
        "print(1 in s1)\n",
        "print(1 in s2)\n",
        "for number in s3:\n",
        "  print(number)"
      ],
      "metadata": {
        "colab": {
          "base_uri": "https://localhost:8080/"
        },
        "id": "LygdDaAeN5lB",
        "outputId": "b07d4c3d-6447-4fae-c40c-a031253d4352"
      },
      "execution_count": null,
      "outputs": [
        {
          "output_type": "stream",
          "name": "stdout",
          "text": [
            "{0, 1, 2, 3, 4, 5, 6, 7, 8, 9, 10, 11, 12, 13}\n",
            "{0, 1, 3, 4, 5, 6, 7, 9, 10, 11, 13}\n",
            "{0, 1, 2, 3, 4, 6, 7, 8, 9, 10, 12}\n",
            "{1, 3, 9, 7}\n",
            "{0, 10, 4, 6}\n",
            "{13, 11, 5}\n",
            "{0, 10, 4, 6}\n",
            "{8, 2, 12}\n",
            "{1, 3, 9, 7}\n",
            "{0, 4, 5, 6, 10, 11, 13}\n",
            "{1, 2, 3, 7, 8, 9, 12}\n",
            "True\n",
            "False\n",
            "0\n",
            "1\n",
            "3\n",
            "4\n",
            "6\n",
            "7\n",
            "9\n",
            "10\n"
          ]
        }
      ]
    }
  ]
}